{
 "cells": [
  {
   "cell_type": "markdown",
   "id": "9d5162b8",
   "metadata": {
    "slideshow": {
     "slide_type": "slide"
    }
   },
   "source": [
    "Slide for python-outfit\n",
    "---\n",
    "## By Hendri Karisma"
   ]
  },
  {
   "cell_type": "markdown",
   "id": "7f86401d",
   "metadata": {
    "slideshow": {
     "slide_type": "subslide"
    }
   },
   "source": [
    "# Introduction\n",
    "\n",
    "* Principal Engineer at blibli.com\n",
    "* Before working in AI Squad, now working in DevEx squad\n",
    "* using python for AI research and helping engineers for several programming laguage in DevEx\n",
    "\n"
   ]
  },
  {
   "cell_type": "markdown",
   "id": "1695fea8",
   "metadata": {
    "slideshow": {
     "slide_type": "slide"
    }
   },
   "source": [
    "# What is consul\n",
    "### a tool that help us to manage :\n",
    "* Discovery\n",
    "* Configuration\n",
    "* Segmentation "
   ]
  },
  {
   "cell_type": "markdown",
   "id": "bfb66d72",
   "metadata": {
    "slideshow": {
     "slide_type": "subslide"
    }
   },
   "source": [
    "## What happens inside monolith and Microservices\n",
    "![alt](images/monolithmicroservices.jpg)"
   ]
  },
  {
   "cell_type": "markdown",
   "id": "bca55f44",
   "metadata": {
    "slideshow": {
     "slide_type": "subslide"
    }
   },
   "source": [
    "<table>\n",
    "    <tr>\n",
    "    <td><img src=\"images/monolith.png\" width=\"500\"/></td>\n",
    "    <td><img src=\"images/microservices.png\" width=\"500\"/></td>\n",
    "    </tr>\n",
    "    <tr><td style=\"text-align:center\">Monolith</td><td style=\"text-align:center\">Microservices</td></tr>\n",
    "</table>"
   ]
  },
  {
   "cell_type": "markdown",
   "id": "63139c63",
   "metadata": {
    "slideshow": {
     "slide_type": "subslide"
    }
   },
   "source": [
    "<img src=\"images/pyconconfig.png\" width=\"500\"/>"
   ]
  },
  {
   "cell_type": "markdown",
   "id": "2f010631",
   "metadata": {
    "slideshow": {
     "slide_type": "slide"
    }
   },
   "source": [
    "# What is vault\n",
    "### a tool that help us to manage :\n",
    "* Credential Rolling\n",
    "* \n",
    "*  "
   ]
  },
  {
   "cell_type": "markdown",
   "id": "5335141a",
   "metadata": {
    "slideshow": {
     "slide_type": "subslide"
    }
   },
   "source": [
    "# Credential Rolling"
   ]
  },
  {
   "cell_type": "markdown",
   "id": "26e46eca",
   "metadata": {
    "slideshow": {
     "slide_type": "slide"
    }
   },
   "source": [
    "# How python integrate with consul and vault ?\n",
    "* Using different libraries for vault and consul\n",
    "* hvac for vault client and python consul for consul\n"
   ]
  },
  {
   "cell_type": "markdown",
   "id": "cfcb0c95",
   "metadata": {
    "slideshow": {
     "slide_type": "subslide"
    }
   },
   "source": [
    "# How java spring integrate with consul and vault ?\n"
   ]
  },
  {
   "cell_type": "markdown",
   "id": "30d7a60c",
   "metadata": {
    "slideshow": {
     "slide_type": "slide"
    }
   },
   "source": [
    "# Python Outfit\n",
    "## what is python-outfit?\n",
    "* help to integrate python with consul and vault easly\n",
    "* just add single file for vault and consul configuration \n",
    "* add config file for logging"
   ]
  },
  {
   "cell_type": "markdown",
   "id": "56ca10a3",
   "metadata": {
    "slideshow": {
     "slide_type": "subslide"
    }
   },
   "source": [
    "# How to integrate with Consul and Vault using python-outfit ?\n",
    "* ### add yaml file that contain configuration information for vault and consul that will read by python-outfit\n"
   ]
  },
  {
   "cell_type": "markdown",
   "id": "4000270d",
   "metadata": {
    "slideshow": {
     "slide_type": "subslide"
    }
   },
   "source": [
    "### add 4 lines for load configuration for consul and vault data\n"
   ]
  },
  {
   "cell_type": "markdown",
   "id": "82e3d346",
   "metadata": {
    "slideshow": {
     "slide_type": "subslide"
    }
   },
   "source": [
    "# Outfit, ConsulCon, VaultCon, Logger\n",
    "there 5 features that already added in python-outfit:\n",
    "    * Outfit\n",
    "    * ConsultCon\n",
    "    * VaultCon\n",
    "    * Logger\n",
    "    * Dict merger function"
   ]
  },
  {
   "cell_type": "markdown",
   "id": "3629ce54",
   "metadata": {
    "slideshow": {
     "slide_type": "subslide"
    }
   },
   "source": [
    "## Outfit\n",
    "## ConsulCon\n",
    "## VaultCon"
   ]
  },
  {
   "cell_type": "markdown",
   "id": "b1258fc2",
   "metadata": {
    "slideshow": {
     "slide_type": "subslide"
    }
   },
   "source": [
    "## Logger"
   ]
  },
  {
   "cell_type": "markdown",
   "id": "a59a1b58",
   "metadata": {
    "slideshow": {
     "slide_type": "slide"
    }
   },
   "source": [
    "\n",
    "\n",
    "# DEMO SAMPLE SIMPLE APP"
   ]
  }
 ],
 "metadata": {
  "celltoolbar": "Slideshow",
  "kernelspec": {
   "display_name": "Python 3 (ipykernel)",
   "language": "python",
   "name": "python3"
  },
  "language_info": {
   "codemirror_mode": {
    "name": "ipython",
    "version": 3
   },
   "file_extension": ".py",
   "mimetype": "text/x-python",
   "name": "python",
   "nbconvert_exporter": "python",
   "pygments_lexer": "ipython3",
   "version": "3.8.10"
  }
 },
 "nbformat": 4,
 "nbformat_minor": 5
}
