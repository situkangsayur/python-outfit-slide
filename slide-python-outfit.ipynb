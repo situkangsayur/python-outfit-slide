{
 "cells": [
  {
   "cell_type": "markdown",
   "id": "9d5162b8",
   "metadata": {
    "slideshow": {
     "slide_type": "slide"
    }
   },
   "source": [
    "<img src=\"images/logopycon.png\" width=\"250\" align=\"right\"/>\n",
    "<br>\n",
    "<br>\n",
    "<br>\n",
    "\n",
    "Managing Config in Python using Consul and Vault\n",
    "---\n",
    "## By Hendri Karisma"
   ]
  },
  {
   "cell_type": "markdown",
   "id": "7f86401d",
   "metadata": {
    "slideshow": {
     "slide_type": "subslide"
    }
   },
   "source": [
    "# Introduction\n",
    "\n",
    "* Principal R&D Engineer at blibli.com\n",
    "* Before working in AI Squad, now working in DevEx squad\n",
    "* using python for AI research and in DevEx: helping engineers for several programming laguages \n",
    "* Selling food at Nevada Kitchen (home cuisine) you search and buy at blibli.com\n"
   ]
  },
  {
   "cell_type": "markdown",
   "id": "1695fea8",
   "metadata": {
    "slideshow": {
     "slide_type": "slide"
    }
   },
   "source": [
    "\n",
    "![alt](images/consul.png)"
   ]
  },
  {
   "cell_type": "markdown",
   "id": "cde6ce7d",
   "metadata": {
    "slideshow": {
     "slide_type": "subslide"
    }
   },
   "source": [
    "## Service Discovery\n",
    "\n",
    "![alt](images/consul-server.jpg)"
   ]
  },
  {
   "cell_type": "markdown",
   "id": "62b63a6c",
   "metadata": {
    "slideshow": {
     "slide_type": "subslide"
    }
   },
   "source": [
    "## What happens inside monolith and Microservices\n",
    "![alt](images/monolithmicroservices.jpg)"
   ]
  },
  {
   "cell_type": "markdown",
   "id": "f86832bf",
   "metadata": {
    "slideshow": {
     "slide_type": "subslide"
    }
   },
   "source": [
    "<table>\n",
    "    <tr>\n",
    "    <td><img src=\"images/monolith.png\" width=\"500\"/></td>\n",
    "    <td><img src=\"images/microservices.png\" width=\"500\"/></td>\n",
    "    </tr>\n",
    "    <tr><td style=\"text-align:center\">Monolith</td><td style=\"text-align:center\">Microservices</td></tr>\n",
    "</table>"
   ]
  },
  {
   "cell_type": "markdown",
   "id": "57fc5556",
   "metadata": {
    "slideshow": {
     "slide_type": "subslide"
    }
   },
   "source": [
    "<img src=\"images/pyconconfig.png\" width=\"500\"/>"
   ]
  },
  {
   "cell_type": "markdown",
   "id": "1dab699e",
   "metadata": {
    "slideshow": {
     "slide_type": "slide"
    }
   },
   "source": [
    "# What is vault\n",
    "### a tool that help us to manage :\n",
    "* Secret to be Centralized with ACL\n",
    "* Dynamic secret and unique secret for each client\n",
    "* Protecting data with encryption feature (high leve API or encryption as a service)\n",
    "\n",
    "** Secret could be : username or password, app credential, api token, TLS Cert, etc"
   ]
  },
  {
   "cell_type": "markdown",
   "id": "f638da1a",
   "metadata": {
    "slideshow": {
     "slide_type": "subslide"
    }
   },
   "source": [
    "# Centralized Secret\n",
    "<img src=\"images/vaultflow.png\" width=\"500\"/>"
   ]
  },
  {
   "cell_type": "markdown",
   "id": "719c56bf",
   "metadata": {
    "slideshow": {
     "slide_type": "subslide"
    }
   },
   "source": [
    "# Centralized Secret\n",
    "\n",
    "<img src=\"images/pyconvault.png\" width=\"500\"/>"
   ]
  },
  {
   "cell_type": "markdown",
   "id": "97af774e",
   "metadata": {
    "slideshow": {
     "slide_type": "slide"
    }
   },
   "source": [
    "# How python integrate with consul and vault ?\n",
    "* Using different libraries for vault and consul\n",
    "* hvac for vault client and python consul for consul\n",
    "<table alignment=\"left\">\n",
    "    <tr>\n",
    "    <td><img src=\"images/pyconsul.png\" width=\"100\"/></td>\n",
    "    <td><img src=\"images/hvac.png\" width=\"100\"/></td>\n",
    "    </tr>\n",
    "</table>\n"
   ]
  },
  {
   "cell_type": "markdown",
   "id": "1a7a7030",
   "metadata": {
    "slideshow": {
     "slide_type": "subslide"
    }
   },
   "source": [
    "# How to integrate consul and vault in python ?\n",
    "1. Install hvac python client and python consul library\n",
    "2. for python consul :\n",
    "        # could use env var to load token\n",
    "        client = consul.Consul(token=token)\n",
    "\n",
    "        client.kv.get('foo')          # OK\n",
    "        client.kv.put('foo', 'bar2')  # raises ACLPermissionDenied\n",
    "\n",
    "        client.kv.get('private/foo')  # returns None, as though the key doesn't\n",
    "                                      # exist - slightly unintuitive\n",
    "        client.kv.put('private/foo', 'bar2')  # raises ACLPermissionDenied\n"
   ]
  },
  {
   "cell_type": "markdown",
   "id": "9e3a9a83",
   "metadata": {
    "slideshow": {
     "slide_type": "subslide"
    }
   },
   "source": [
    "3. for python vault :\n",
    "    \n",
    "        # could use env var for the config info\n",
    "        client = hvac.Client(\n",
    "            url='https://localhost:8200',\n",
    "            token=os.environ['VAULT_TOKEN'],\n",
    "            cert=(client_cert_path, client_key_path),\n",
    "            verify=server_cert_path,\n",
    "        )\n",
    "        client.is_authenticated()\n",
    "        create_response = client.secrets.kv.v2.create_or_update_secret(\n",
    "             path='foo',\n",
    "             secret=dict(baz='bar'),\n",
    "         )\n",
    "\n",
    "         # Read the data written under path: secret/foo\n",
    "         read_response = client.secrets.kv.read_secret_version(path='foo')\n",
    "         print('Value under path \"secret/foo\" / key \"baz\": {val}'.format(\n",
    "              val=read_response['data']['data']['baz'],\n",
    "        ))\n",
    "    "
   ]
  },
  {
   "cell_type": "markdown",
   "id": "09824d51",
   "metadata": {
    "slideshow": {
     "slide_type": "subslide"
    }
   },
   "source": [
    "# How java spring integrate with consul and vault ?\n",
    "\n",
    "1. Add spring cloud dependency\n",
    "2. Add spring.cloud.vault.* or spring.cloud.consul.* (could use yaml or .properties)\n",
    "3. create class/bean to load configuration\n",
    "done"
   ]
  },
  {
   "cell_type": "markdown",
   "id": "dd1583de",
   "metadata": {
    "slideshow": {
     "slide_type": "subslide"
    }
   },
   "source": [
    "# Sample bootstrap.properties in springboot\n",
    "\n",
    "    #Vault Configuration\n",
    "    spring.cloud.vault.enabled=${VAULT_ENABLE:true}\n",
    "    spring.cloud.vault.host=${VAULT_HOST:localhost}\n",
    "    spring.cloud.vault.port=${VAULT_PORT:8300}\n",
    "    spring.cloud.vault.fail-fast=true\n",
    "    spring.cloud.vault.token=${VAULT_TOKEN}\n",
    "    spring.cloud.vault.scheme=${VAULT_SCHEME:http}\n",
    "    spring.cloud.vault.generic.backend=secret/config\n",
    "\n",
    "    #Consul Configuration\n",
    "    spring.cloud.consul.enabled=${CONSUL_ENABLE:true}\n",
    "    spring.cloud.consul.host=${CONSUL_HOST:localhost}\n",
    "    spring.cloud.consul.port=${CONSUL_PORT:8500}\n",
    "    spring.cloud.consul.config.fail-fast=true\n",
    "    spring.cloud.consul.config.format=properties\n",
    "    spring.cloud.consul.config.prefix=config\n"
   ]
  },
  {
   "cell_type": "markdown",
   "id": "2cb9195f",
   "metadata": {
    "slideshow": {
     "slide_type": "slide"
    }
   },
   "source": [
    "# Python Outfit\n",
    "## what is python-outfit?\n",
    "* help to integrate python with consul and vault easly\n",
    "* just add single file for vault and consul configuration \n",
    "* add config file for logging"
   ]
  },
  {
   "cell_type": "markdown",
   "id": "799f5198",
   "metadata": {
    "slideshow": {
     "slide_type": "subslide"
    }
   },
   "source": [
    "## How to integrate with Consul and Vault using python-outfit ?\n",
    "* add yaml file that contain configuration information for vault and consul that will read by python-outfit\n",
    "\n",
    "        vault:\n",
    "            host: ${VAULT_HOST}\n",
    "            port: ${VAULT_PORT}\n",
    "            scheme: ${VAULT_SCHEME}\n",
    "            token: ${TOKEN_VAULT}\n",
    "            path: ${VAULT_PATH}\n",
    "        consul:\n",
    "            host: ${CONSUL_HOST} \n",
    "            port: ${CONSUL_PORT}\n",
    "            scheme: ${CONSUL_SCHEME}\n",
    "            token: ${TOKEN_CONSUL}\n",
    "            path: ${CONSUL_PATH}\n",
    "        logconfig:\n",
    "            mode: ${LOG_MODE}\n",
    "            source_type: ${LOG_TYPE}\n",
    "            source_location: ${LOG_LOCATION} \n",
    "            default_type: yaml_file\n",
    "            default_location: conf/logging.yaml\n"
   ]
  },
  {
   "cell_type": "markdown",
   "id": "88f6e267",
   "metadata": {
    "slideshow": {
     "slide_type": "subslide"
    }
   },
   "source": [
    "### add 5 to 6 lines for load configuration for consul and vault data\n",
    "\n",
    "    \n",
    "    from outfit import Outfit\n",
    "    from outfit import ConsulCon, VaultCon\n",
    "    from outfit import Logger\n",
    "\n",
    "    if __name__ == '__main__':\n",
    "        Outfit.setup('conf/configuration.yaml')\n",
    "        con_consul = ConsulCon()\n",
    "\n",
    "        # get the information such as config file from consul kv then will be returned as python dictionary\n",
    "        config_dict = con_consul.get_kv()\n",
    "\n",
    "        con_vault = VaultCon()\n",
    "\n",
    "        # get the secret information in vault secret kv then will be returned as python dictionary\n",
    "        secret_dict = con_vault.get_secret_kv()\n",
    "        \n",
    "        # if you want to merge the vault data and consul data\n",
    "        main_config = merge_dict(config_dict, secret_dict)\n"
   ]
  },
  {
   "cell_type": "markdown",
   "id": "3fab820d",
   "metadata": {
    "slideshow": {
     "slide_type": "subslide"
    }
   },
   "source": [
    "# Outfit, ConsulCon, VaultCon, Logger\n",
    "there 5 features that already added in python-outfit:\n",
    "    * Outfit\n",
    "    * ConsultCon\n",
    "    * VaultCon\n",
    "    * Logger\n",
    "    * Dict merger function"
   ]
  },
  {
   "cell_type": "markdown",
   "id": "cde51f31",
   "metadata": {
    "slideshow": {
     "slide_type": "subslide"
    }
   },
   "source": [
    "## Outfit\n",
    "    { from outfit import Outfit }\n",
    "    The main static class to load the configuration file (yaml)\n",
    "## ConsulCon\n",
    "    { from outfit import ConsulCon }\n",
    "    Consul class to load key value class\n",
    "## VaultCon\n",
    "    { from outfit import VaultCon }\n",
    "    Consul class to load the secret data"
   ]
  },
  {
   "cell_type": "markdown",
   "id": "ae917ccc",
   "metadata": {
    "slideshow": {
     "slide_type": "slide"
    }
   },
   "source": [
    "# DEMO SAMPLE SIMPLE APP\n",
    "\n",
    "https://github.com/situkangsayur/staff_app \n",
    "<br>\n",
    "(to open the swagger : http://localhost:5000/api/v1 )\n",
    "<br>\n",
    "https://github.com/situkangsayur/async-fastapi-mongo"
   ]
  },
  {
   "cell_type": "markdown",
   "id": "29713881",
   "metadata": {
    "slideshow": {
     "slide_type": "subslide"
    }
   },
   "source": [
    "# Thank you\n",
    "\n",
    "contacs:\n",
    " * email : situkangsayur@gmail.com\n",
    " * office email : hendri.karisma@gdn-commerce.com\n",
    " * github : https://github.com/situkangsayur\n",
    " * twitter : @infoHendri\n",
    " * telegram : @siganteng"
   ]
  }
 ],
 "metadata": {
  "celltoolbar": "Slideshow",
  "kernelspec": {
   "display_name": "Python 3 (ipykernel)",
   "language": "python",
   "name": "python3"
  },
  "language_info": {
   "codemirror_mode": {
    "name": "ipython",
    "version": 3
   },
   "file_extension": ".py",
   "mimetype": "text/x-python",
   "name": "python",
   "nbconvert_exporter": "python",
   "pygments_lexer": "ipython3",
   "version": "3.8.10"
  }
 },
 "nbformat": 4,
 "nbformat_minor": 5
}
