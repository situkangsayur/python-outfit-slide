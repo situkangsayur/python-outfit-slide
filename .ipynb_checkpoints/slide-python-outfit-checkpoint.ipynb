{
 "cells": [
  {
   "cell_type": "markdown",
   "id": "9d5162b8",
   "metadata": {
    "slideshow": {
     "slide_type": "slide"
    }
   },
   "source": [
    "Slide for python-outfit\n",
    "---\n",
    "## By Hendri Karisma"
   ]
  },
  {
   "cell_type": "markdown",
   "id": "7f86401d",
   "metadata": {
    "slideshow": {
     "slide_type": "subslide"
    }
   },
   "source": [
    "# Introduction\n",
    "\n",
    "* Principal Engineer at blibli.com\n",
    "* Before working in AI Squad, now working in DevEx squad\n",
    "* using python for AI research and helping engineers for several programming laguage in DevEx\n",
    "\n"
   ]
  },
  {
   "cell_type": "markdown",
   "id": "1695fea8",
   "metadata": {
    "slideshow": {
     "slide_type": "slide"
    }
   },
   "source": [
    "# What is consul\n",
    "### a tool that help us to manage :\n",
    "* Discovery\n",
    "* Configuration\n",
    "* Segmentation "
   ]
  },
  {
   "cell_type": "markdown",
   "id": "74865500",
   "metadata": {
    "slideshow": {
     "slide_type": "subslide"
    }
   },
   "source": [
    "## What happens inside monolith and Microservices\n",
    "![alt](images/monolithmicroservices.jpg)"
   ]
  },
  {
   "cell_type": "markdown",
   "id": "1a36988c",
   "metadata": {
    "slideshow": {
     "slide_type": "subslide"
    }
   },
   "source": [
    "<table>\n",
    "    <tr>\n",
    "    <td><img src=\"images/monolith.png\" width=\"500\"/></td>\n",
    "    <td><img src=\"images/microservices.png\" width=\"500\"/></td>\n",
    "    </tr>\n",
    "    <tr><td style=\"text-align:center\">Monolith</td><td style=\"text-align:center\">Microservices</td></tr>\n",
    "</table>"
   ]
  },
  {
   "cell_type": "markdown",
   "id": "94b9534d",
   "metadata": {
    "slideshow": {
     "slide_type": "subslide"
    }
   },
   "source": [
    "<img src=\"images/pyconconfig.png\" width=\"500\"/>"
   ]
  },
  {
   "cell_type": "markdown",
   "id": "d3c952c7",
   "metadata": {
    "slideshow": {
     "slide_type": "slide"
    }
   },
   "source": [
    "# What is vault\n",
    "### a tool that help us to manage :\n",
    "* Credential Rolling\n",
    "* \n",
    "*  "
   ]
  },
  {
   "cell_type": "markdown",
   "id": "d19eb2a3",
   "metadata": {
    "slideshow": {
     "slide_type": "subslide"
    }
   },
   "source": [
    "# Credential Rolling"
   ]
  },
  {
   "cell_type": "markdown",
   "id": "96720cc6",
   "metadata": {
    "slideshow": {
     "slide_type": "slide"
    }
   },
   "source": [
    "# How python integrate with consul and vault ?\n",
    "* Using different libraries for vault and consul\n",
    "* hvac for vault client and python consul for consul\n"
   ]
  },
  {
   "cell_type": "markdown",
   "id": "9c6adb78",
   "metadata": {
    "slideshow": {
     "slide_type": "subslide"
    }
   },
   "source": [
    "# How to integrate consul and vault in python ?\n",
    "1. Install hvac python client and python consul library\n",
    "2. for python consul :\n",
    "    {\n",
    "        # could use env var to load token\n",
    "        client = consul.Consul(token=token)\n",
    "\n",
    "        client.kv.get('foo')          # OK\n",
    "        client.kv.put('foo', 'bar2')  # raises ACLPermissionDenied\n",
    "\n",
    "        client.kv.get('private/foo')  # returns None, as though the key doesn't\n",
    "                                      # exist - slightly unintuitive\n",
    "        client.kv.put('private/foo', 'bar2')  # raises ACLPermissionDenied\n",
    "    }\n"
   ]
  },
  {
   "cell_type": "markdown",
   "id": "da16801d",
   "metadata": {
    "slideshow": {
     "slide_type": "subslide"
    }
   },
   "source": [
    "3. for python vault :\n",
    "    {\n",
    "        # could use env var for the config info\n",
    "        client = hvac.Client(\n",
    "            url='https://localhost:8200',\n",
    "            token=os.environ['VAULT_TOKEN'],\n",
    "            cert=(client_cert_path, client_key_path),\n",
    "            verify=server_cert_path,\n",
    "        )\n",
    "        client.is_authenticated()\n",
    "        create_response = client.secrets.kv.v2.create_or_update_secret(\n",
    "             path='foo',\n",
    "             secret=dict(baz='bar'),\n",
    "         )\n",
    "\n",
    "         # Read the data written under path: secret/foo\n",
    "         read_response = client.secrets.kv.read_secret_version(path='foo')\n",
    "         print('Value under path \"secret/foo\" / key \"baz\": {val}'.format(\n",
    "              val=read_response['data']['data']['baz'],\n",
    "        ))\n",
    "    }"
   ]
  },
  {
   "cell_type": "markdown",
   "id": "a41c6d29",
   "metadata": {
    "slideshow": {
     "slide_type": "subslide"
    }
   },
   "source": [
    "# How java spring integrate with consul and vault ?\n",
    "\n",
    "1. Add spring cloud dependency\n",
    "2. Add spring.cloud.vault.* or spring.cloud.consul.* (could use yaml or .properties)\n",
    "3. create class/bean to load configuration\n",
    "done"
   ]
  },
  {
   "cell_type": "markdown",
   "id": "a2c0f318",
   "metadata": {
    "slideshow": {
     "slide_type": "subslide"
    }
   },
   "source": [
    "# Sample bootstrap.properties in springboot\n",
    "{\n",
    "    # Vault Configuration\n",
    "    spring.cloud.vault.enabled=${VAULT_ENABLE:true}\n",
    "    spring.cloud.vault.host=${VAULT_HOST:localhost}\n",
    "    spring.cloud.vault.port=${VAULT_PORT:8300}\n",
    "    spring.cloud.vault.fail-fast=true\n",
    "    spring.cloud.vault.token=${VAULT_TOKEN}\n",
    "    spring.cloud.vault.scheme=${VAULT_SCHEME:http}\n",
    "    spring.cloud.vault.generic.backend=secret/config\n",
    "\n",
    "    # Consul Configuration\n",
    "    spring.cloud.consul.enabled=${CONSUL_ENABLE:true}\n",
    "    spring.cloud.consul.host=${CONSUL_HOST:localhost}\n",
    "    spring.cloud.consul.port=${CONSUL_PORT:8500}\n",
    "    spring.cloud.consul.config.fail-fast=true\n",
    "    spring.cloud.consul.config.format=properties\n",
    "    spring.cloud.consul.config.prefix=config\n",
    "}"
   ]
  },
  {
   "cell_type": "markdown",
   "id": "5eedf2da",
   "metadata": {
    "slideshow": {
     "slide_type": "slide"
    }
   },
   "source": [
    "# Python Outfit\n",
    "## what is python-outfit?\n",
    "* help to integrate python with consul and vault easly\n",
    "* just add single file for vault and consul configuration \n",
    "* add config file for logging"
   ]
  },
  {
   "cell_type": "markdown",
   "id": "b9fbf580",
   "metadata": {
    "slideshow": {
     "slide_type": "subslide"
    }
   },
   "source": [
    "# How to integrate with Consul and Vault using python-outfit ?\n",
    "* ### add yaml file that contain configuration information for vault and consul that will read by python-outfit\n",
    "{\n",
    "    vault:\n",
    "        host: ${VAULT_HOST}\n",
    "        port: ${VAULT_PORT}\n",
    "        scheme: ${VAULT_SCHEME}\n",
    "        token: ${TOKEN_VAULT}\n",
    "        path: ${VAULT_PATH}\n",
    "    consul:\n",
    "        host: ${CONSUL_HOST} \n",
    "        port: ${CONSUL_PORT}\n",
    "        scheme: ${CONSUL_SCHEME}\n",
    "        token: ${TOKEN_CONSUL}\n",
    "        path: ${CONSUL_PATH}\n",
    "    logconfig:\n",
    "        mode: ${LOG_MODE}\n",
    "        source_type: ${LOG_TYPE}\n",
    "        source_location: ${LOG_LOCATION} \n",
    "        default_type: yaml_file\n",
    "        default_location: conf/logging.yaml\n",
    "}"
   ]
  },
  {
   "cell_type": "markdown",
   "id": "48da120c",
   "metadata": {
    "slideshow": {
     "slide_type": "subslide"
    }
   },
   "source": [
    "### add 5 to 6 lines for load configuration for consul and vault data\n",
    "{\n",
    "    from outfit import Outfit\n",
    "    from outfit import ConsulCon, VaultCon\n",
    "    from outfit import Logger\n",
    "\n",
    "    if __name__ == '__main__':\n",
    "        Outfit.setup('conf/configuration.yaml')\n",
    "        con_consul = ConsulCon()\n",
    "\n",
    "        # get the information such as config file from consul kv then will be returned as python dictionary\n",
    "        config_dict = con_consul.get_kv()\n",
    "\n",
    "        con_vault = VaultCon()\n",
    "\n",
    "        # get the secret information in vault secret kv then will be returned as python dictionary\n",
    "        secret_dict = con_vault.get_secret_kv()\n",
    "        \n",
    "        # if you want to merge the vault data and consul data\n",
    "        main_config = merge_dict(config_dict, secret_dict)\n",
    "}"
   ]
  },
  {
   "cell_type": "markdown",
   "id": "263c9503",
   "metadata": {
    "slideshow": {
     "slide_type": "subslide"
    }
   },
   "source": [
    "# Outfit, ConsulCon, VaultCon, Logger\n",
    "there 5 features that already added in python-outfit:\n",
    "    * Outfit\n",
    "    * ConsultCon\n",
    "    * VaultCon\n",
    "    * Logger\n",
    "    * Dict merger function"
   ]
  },
  {
   "cell_type": "markdown",
   "id": "3eca7d90",
   "metadata": {
    "slideshow": {
     "slide_type": "subslide"
    }
   },
   "source": [
    "## Outfit\n",
    "## ConsulCon\n",
    "## VaultCon"
   ]
  },
  {
   "cell_type": "markdown",
   "id": "32afc5b5",
   "metadata": {
    "slideshow": {
     "slide_type": "subslide"
    }
   },
   "source": [
    "## Logger"
   ]
  },
  {
   "cell_type": "markdown",
   "id": "4fb3723a",
   "metadata": {
    "slideshow": {
     "slide_type": "slide"
    }
   },
   "source": [
    "\n",
    "\n",
    "# DEMO SAMPLE SIMPLE APP"
   ]
  }
 ],
 "metadata": {
  "celltoolbar": "Slideshow",
  "kernelspec": {
   "display_name": "Python 3 (ipykernel)",
   "language": "python",
   "name": "python3"
  },
  "language_info": {
   "codemirror_mode": {
    "name": "ipython",
    "version": 3
   },
   "file_extension": ".py",
   "mimetype": "text/x-python",
   "name": "python",
   "nbconvert_exporter": "python",
   "pygments_lexer": "ipython3",
   "version": "3.8.10"
  }
 },
 "nbformat": 4,
 "nbformat_minor": 5
}
